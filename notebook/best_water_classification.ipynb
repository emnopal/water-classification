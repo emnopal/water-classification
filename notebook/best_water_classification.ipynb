{
 "cells": [
  {
   "cell_type": "markdown",
   "source": [
    "Keterangan: Yang paling bagus ada di Decision Tree, Random Forest sama XGBoost"
   ],
   "metadata": {
    "collapsed": false
   }
  },
  {
   "cell_type": "code",
   "execution_count": 48,
   "outputs": [],
   "source": [
    "import pandas as pd\n",
    "import seaborn as sns\n",
    "import matplotlib.pyplot as plt\n",
    "\n",
    "_ = sns.set_palette('Set2')"
   ],
   "metadata": {
    "collapsed": false,
    "pycharm": {
     "name": "#%%\n"
    }
   }
  },
  {
   "cell_type": "code",
   "execution_count": 49,
   "outputs": [],
   "source": [
    "import joblib\n",
    "\n",
    "feature = joblib.load('../dataset/feature')\n",
    "target = joblib.load('../dataset/target')"
   ],
   "metadata": {
    "collapsed": false,
    "pycharm": {
     "name": "#%%\n"
    }
   }
  },
  {
   "cell_type": "markdown",
   "source": [
    "# Estimating performance for the model(s)"
   ],
   "metadata": {
    "collapsed": false
   }
  },
  {
   "cell_type": "code",
   "execution_count": 47,
   "outputs": [
    {
     "data": {
      "text/plain": "DecisionTreeClassifier(max_depth=250, max_features='auto', min_samples_leaf=2)"
     },
     "execution_count": 47,
     "metadata": {},
     "output_type": "execute_result"
    }
   ],
   "source": [
    "from sklearn.model_selection import RepeatedKFold, GridSearchCV\n",
    "from sklearn.tree import DecisionTreeClassifier\n",
    "\n",
    "cv = RepeatedKFold(n_splits=3, n_repeats=2)\n",
    "\n",
    "# max_depth=i, max_features='auto', min_samples_split=i, min_samples_leaf=i, min_impurity_decrease=i\n",
    "\n",
    "param_grid = {\n",
    "    'max_depth': [2, 8, 10, 20,50, 100, 150, 250, 300 ,500, 1000],\n",
    "    'max_features': ['auto', 'sqrt', 'log2'],\n",
    "    'min_samples_leaf': [2, 8, 10, 20,50, 100, 150, 250, 300 ,500, 1000],\n",
    "    'min_samples_split': [2, 8, 10, 20,50, 100, 150, 250, 300 ,500, 1000],\n",
    "}\n",
    "\n",
    "models = DecisionTreeClassifier()\n",
    "\n",
    "# scoring = ['accuracy', 'precision', 'recall', 'f1']\n",
    "scoring = 'f1'\n",
    "\n",
    "grid = GridSearchCV(models, param_grid, cv=cv, scoring=scoring)\n",
    "grid.fit(feature, target)\n",
    "\n",
    "grid.best_estimator_"
   ],
   "metadata": {
    "collapsed": false,
    "pycharm": {
     "name": "#%%\n"
    }
   }
  },
  {
   "cell_type": "code",
   "execution_count": null,
   "outputs": [],
   "source": [
    "from sklearn.model_selection import cross_validate, RepeatedKFold\n",
    "from xgboost import XGBClassifier\n",
    "from sklearn.tree import DecisionTreeClassifier\n",
    "from sklearn.ensemble import RandomForestClassifier\n",
    "\n",
    "cv = RepeatedKFold(n_splits=10, n_repeats=2)\n",
    "\n",
    "models = {\n",
    "    \"DT\": DecisionTreeClassifier(),\n",
    "    'RF': RandomForestClassifier(),\n",
    "    'XGB': XGBClassifier(use_label_encoder=False)\n",
    "}\n",
    "\n",
    "# max_depth=i, max_features='auto', min_samples_split=i, min_samples_leaf=i, min_impurity_decrease=i\n",
    "\n",
    "names = []\n",
    "scoring = ['accuracy', 'precision', 'recall', 'f1']\n",
    "accuracy, precision, recall, f1 = [[] for i in range(len(scoring))]\n",
    "\n",
    "for name, model in models.items():\n",
    "    names.append(name)\n",
    "\n",
    "    scores = cross_validate(model, feature, target, cv=cv, scoring=scoring)\n",
    "\n",
    "    accuracy.append(scores['test_accuracy'].mean())\n",
    "    precision.append(scores['test_precision'].mean())\n",
    "    recall.append(scores['test_recall'].mean())\n",
    "    f1.append(scores['test_f1'].mean())"
   ],
   "metadata": {
    "collapsed": false,
    "pycharm": {
     "name": "#%%\n",
     "is_executing": true
    }
   }
  },
  {
   "cell_type": "code",
   "execution_count": 61,
   "outputs": [
    {
     "data": {
      "text/plain": "     Accuracy  Precision    Recall        F1\nRF   0.851442   0.862072  0.836561  0.848876\nXGB  0.818215   0.793106  0.861304  0.825526\nDT   0.777533   0.734715  0.869221  0.795822",
      "text/html": "<div>\n<style scoped>\n    .dataframe tbody tr th:only-of-type {\n        vertical-align: middle;\n    }\n\n    .dataframe tbody tr th {\n        vertical-align: top;\n    }\n\n    .dataframe thead th {\n        text-align: right;\n    }\n</style>\n<table border=\"1\" class=\"dataframe\">\n  <thead>\n    <tr style=\"text-align: right;\">\n      <th></th>\n      <th>Accuracy</th>\n      <th>Precision</th>\n      <th>Recall</th>\n      <th>F1</th>\n    </tr>\n  </thead>\n  <tbody>\n    <tr>\n      <th>RF</th>\n      <td>0.851442</td>\n      <td>0.862072</td>\n      <td>0.836561</td>\n      <td>0.848876</td>\n    </tr>\n    <tr>\n      <th>XGB</th>\n      <td>0.818215</td>\n      <td>0.793106</td>\n      <td>0.861304</td>\n      <td>0.825526</td>\n    </tr>\n    <tr>\n      <th>DT</th>\n      <td>0.777533</td>\n      <td>0.734715</td>\n      <td>0.869221</td>\n      <td>0.795822</td>\n    </tr>\n  </tbody>\n</table>\n</div>"
     },
     "execution_count": 61,
     "metadata": {},
     "output_type": "execute_result"
    }
   ],
   "source": [
    "results_df = pd.DataFrame({\n",
    "    'Accuracy': accuracy,\n",
    "    'Precision': precision,\n",
    "    'Recall': recall,\n",
    "    'F1': f1,\n",
    "}, index=names).sort_values(by='Accuracy', ascending=True)\n",
    "\n",
    "results_df.sort_values(by='Accuracy', ascending=False)"
   ],
   "metadata": {
    "collapsed": false,
    "pycharm": {
     "name": "#%%\n"
    }
   }
  },
  {
   "cell_type": "code",
   "execution_count": 8,
   "metadata": {
    "ExecuteTime": {
     "end_time": "2021-10-20T06:25:44.077152Z",
     "start_time": "2021-10-20T06:25:43.430260Z"
    },
    "pycharm": {
     "name": "#%%\n"
    }
   },
   "outputs": [
    {
     "data": {
      "text/plain": "<matplotlib.legend.Legend at 0x294299efdf0>"
     },
     "execution_count": 8,
     "metadata": {},
     "output_type": "execute_result"
    },
    {
     "data": {
      "text/plain": "<Figure size 360x360 with 1 Axes>",
      "image/png": "[encoded data removed]"
     },
     "metadata": {
      "needs_background": "light"
     },
     "output_type": "display_data"
    }
   ],
   "source": [
    "_, ax = plt.subplots(figsize=(5,5))\n",
    "results_df.plot(kind='barh', ax=ax, zorder=3)\n",
    "ax.grid(zorder=0)\n",
    "plt.legend(bbox_to_anchor=(1,1), loc=\"upper left\")"
   ]
  },
  {
   "cell_type": "code",
   "execution_count": 64,
   "outputs": [
    {
     "name": "stdout",
     "output_type": "stream",
     "text": [
      "[22:56:11] WARNING: C:/Users/Administrator/workspace/xgboost-win64_release_1.5.1/src/learner.cc:1115: Starting in XGBoost 1.3.0, the default evaluation metric used with the objective 'binary:logistic' was changed from 'error' to 'logloss'. Explicitly set eval_metric if you'd like to restore the old behavior.\n"
     ]
    }
   ],
   "source": [
    "models = {\n",
    "    \"decision_tree\": DecisionTreeClassifier(),\n",
    "    'random_forest': RandomForestClassifier(),\n",
    "    'xgboost': XGBClassifier(use_label_encoder=False)\n",
    "}\n",
    "\n",
    "for name, model in models.items():\n",
    "\n",
    "    model.fit(feature, target)\n",
    "\n",
    "    joblib.dump(model, f'../model/{name}')"
   ],
   "metadata": {
    "collapsed": false,
    "pycharm": {
     "name": "#%%\n"
    }
   }
  },
  {
   "cell_type": "code",
   "execution_count": 18,
   "outputs": [
    {
     "name": "stdout",
     "output_type": "stream",
     "text": [
      "[1]\n"
     ]
    }
   ],
   "source": [
    "import numpy as np\n",
    "import joblib\n",
    "\n",
    "_model = joblib.load('../model/decision_tree')\n",
    "result = _model.predict(np.array([1,2,3,4,5,6,7,8,9]).reshape(1,-1))\n",
    "print(result)"
   ],
   "metadata": {
    "collapsed": false,
    "pycharm": {
     "name": "#%%\n"
    }
   }
  },
  {
   "cell_type": "code",
   "execution_count": 23,
   "outputs": [
    {
     "name": "stdout",
     "output_type": "stream",
     "text": [
      "[1]\n"
     ]
    }
   ],
   "source": [
    "test = {\n",
    "    'a':1,\n",
    "    'b':2,\n",
    "    'c':3,\n",
    "    'd':4,\n",
    "    'e':5,\n",
    "    'f':6,\n",
    "    'g':7,\n",
    "    'h':8,\n",
    "    'i':9\n",
    "}\n",
    "\n",
    "tests = np.array(list(test.values()))\n",
    "\n",
    "_model = joblib.load('../model/decision_tree')\n",
    "result = _model.predict(tests.reshape(1,-1))\n",
    "print(result)"
   ],
   "metadata": {
    "collapsed": false,
    "pycharm": {
     "name": "#%%\n"
    }
   }
  },
  {
   "cell_type": "code",
   "execution_count": 24,
   "outputs": [
    {
     "data": {
      "text/plain": "1"
     },
     "execution_count": 24,
     "metadata": {},
     "output_type": "execute_result"
    }
   ],
   "source": [
    "result[0]"
   ],
   "metadata": {
    "collapsed": false,
    "pycharm": {
     "name": "#%%\n"
    }
   }
  }
 ],
 "metadata": {
  "accelerator": "GPU",
  "colab": {
   "collapsed_sections": [
    "Pf8NT10_DGa1",
    "t8y7CFaIDGa3",
    "TFVCdVP5DGa4",
    "9e1Tgo7JDGa5",
    "dsbvaSupDGa6",
    "NUuwHzDiDGa6",
    "C6lBDfEDDGa8",
    "n7ZQiUtkDGa8",
    "veQ8LknMDGa9",
    "nBw7edKODGa9",
    "OZjlzoCyDGa-"
   ],
   "name": "best_model.ipynb",
   "provenance": []
  },
  "kernelspec": {
   "display_name": "Python 3 (ipykernel)",
   "language": "python",
   "name": "python3"
  },
  "language_info": {
   "codemirror_mode": {
    "name": "ipython",
    "version": 3
   },
   "file_extension": ".py",
   "mimetype": "text/x-python",
   "name": "python",
   "nbconvert_exporter": "python",
   "pygments_lexer": "ipython3",
   "version": "3.9.7"
  },
  "latex_envs": {
   "LaTeX_envs_menu_present": true,
   "autoclose": false,
   "autocomplete": true,
   "bibliofile": "biblio.bib",
   "cite_by": "apalike",
   "current_citInitial": 1,
   "eqLabelWithNumbers": true,
   "eqNumInitial": 1,
   "hotkeys": {
    "equation": "Ctrl-E",
    "itemize": "Ctrl-I"
   },
   "labels_anchors": false,
   "latex_user_defs": false,
   "report_style_numbering": false,
   "user_envs_cfg": false
  },
  "toc": {
   "base_numbering": 1,
   "nav_menu": {},
   "number_sections": true,
   "sideBar": true,
   "skip_h1_title": false,
   "title_cell": "Table of Contents",
   "title_sidebar": "Contents",
   "toc_cell": false,
   "toc_position": {},
   "toc_section_display": true,
   "toc_window_display": true
  }
 },
 "nbformat": 4,
 "nbformat_minor": 1
}